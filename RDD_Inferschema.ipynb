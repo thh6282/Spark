{
 "cells": [
  {
   "cell_type": "code",
   "execution_count": 1,
   "metadata": {},
   "outputs": [],
   "source": [
    "from pyspark.sql import SparkSession\n",
    "from pyspark import SparkContext\n",
    "\n",
    "spark = SparkSession.builder.appName(\"SparkSQL\").getOrCreate()\n",
    "\n",
    "sc=SparkContext.getOrCreate()\n"
   ]
  },
  {
   "cell_type": "markdown",
   "metadata": {},
   "source": [
    "### RDD"
   ]
  },
  {
   "cell_type": "code",
   "execution_count": 2,
   "metadata": {},
   "outputs": [],
   "source": [
    "rdd1 = sc.textFile(\"D:\\hoangth\\spark\\world_count.txt\")"
   ]
  },
  {
   "cell_type": "code",
   "execution_count": 3,
   "metadata": {},
   "outputs": [
    {
     "data": {
      "text/plain": [
       "['big data is very interesting ', 'big data is one of the most trending tech']"
      ]
     },
     "execution_count": 3,
     "metadata": {},
     "output_type": "execute_result"
    }
   ],
   "source": [
    "rdd1.collect()"
   ]
  },
  {
   "cell_type": "code",
   "execution_count": 4,
   "metadata": {},
   "outputs": [],
   "source": [
    "rdd2 = rdd1.flatMap(lambda x: x.split(\" \"))"
   ]
  },
  {
   "cell_type": "code",
   "execution_count": 5,
   "metadata": {},
   "outputs": [
    {
     "data": {
      "text/plain": [
       "['big',\n",
       " 'data',\n",
       " 'is',\n",
       " 'very',\n",
       " 'interesting',\n",
       " '',\n",
       " 'big',\n",
       " 'data',\n",
       " 'is',\n",
       " 'one',\n",
       " 'of',\n",
       " 'the',\n",
       " 'most',\n",
       " 'trending',\n",
       " 'tech']"
      ]
     },
     "execution_count": 5,
     "metadata": {},
     "output_type": "execute_result"
    }
   ],
   "source": [
    "rdd2.collect()"
   ]
  },
  {
   "cell_type": "markdown",
   "metadata": {},
   "source": [
    "### inferschema"
   ]
  },
  {
   "cell_type": "code",
   "execution_count": 6,
   "metadata": {},
   "outputs": [],
   "source": [
    "df = spark.read\\\n",
    "    .format(\"csv\")\\\n",
    "    .option(\"header\", \"true\")\\\n",
    "    .option(\"inferSchema\", \"true\")\\\n",
    "    .load(\"a.csv\")\n",
    "\n",
    "### spark read all data and infer schema"
   ]
  },
  {
   "cell_type": "code",
   "execution_count": 8,
   "metadata": {},
   "outputs": [
    {
     "name": "stdout",
     "output_type": "stream",
     "text": [
      "root\n",
      " |-- Patient Id: integer (nullable = true)\n",
      " |-- Permanent Facility Id: double (nullable = true)\n",
      " |-- Age Group: string (nullable = true)\n",
      " |-- Zip Code - 3 digits: string (nullable = true)\n",
      " |-- Gender: string (nullable = true)\n",
      " |-- Race: string (nullable = true)\n",
      " |-- Ethnicity: string (nullable = true)\n",
      " |-- Length of Stay: string (nullable = true)\n",
      " |-- Type of Admission: string (nullable = true)\n",
      " |-- Patient Disposition: string (nullable = true)\n",
      " |-- CCS Diagnosis Code: string (nullable = true)\n",
      " |-- Date: date (nullable = true)\n",
      "\n"
     ]
    }
   ],
   "source": [
    "df.printSchema()"
   ]
  },
  {
   "cell_type": "code",
   "execution_count": 9,
   "metadata": {},
   "outputs": [],
   "source": [
    "df1 = spark.read\\\n",
    "    .format(\"csv\")\\\n",
    "    .option(\"header\", \"true\")\\\n",
    "    .option(\"inferSchema\", \"false\")\\\n",
    "    .load(\"a.csv\")\n",
    "    \n",
    "### cast all data type col to string"
   ]
  },
  {
   "cell_type": "code",
   "execution_count": 10,
   "metadata": {},
   "outputs": [
    {
     "name": "stdout",
     "output_type": "stream",
     "text": [
      "root\n",
      " |-- Patient Id: string (nullable = true)\n",
      " |-- Permanent Facility Id: string (nullable = true)\n",
      " |-- Age Group: string (nullable = true)\n",
      " |-- Zip Code - 3 digits: string (nullable = true)\n",
      " |-- Gender: string (nullable = true)\n",
      " |-- Race: string (nullable = true)\n",
      " |-- Ethnicity: string (nullable = true)\n",
      " |-- Length of Stay: string (nullable = true)\n",
      " |-- Type of Admission: string (nullable = true)\n",
      " |-- Patient Disposition: string (nullable = true)\n",
      " |-- CCS Diagnosis Code: string (nullable = true)\n",
      " |-- Date: string (nullable = true)\n",
      "\n"
     ]
    }
   ],
   "source": [
    "df1.printSchema()"
   ]
  },
  {
   "cell_type": "code",
   "execution_count": 11,
   "metadata": {},
   "outputs": [],
   "source": [
    "df2 = spark.read\\\n",
    "    .format(\"csv\")\\\n",
    "    .option(\"header\", \"true\")\\\n",
    "    .option(\"inferSchema\", \"true\")\\\n",
    "    .option(\"samplingRatio\", \"0.1\")\\\n",
    "    .load(\"a.csv\")\n",
    "    \n",
    "### spark read 10% of data"
   ]
  },
  {
   "cell_type": "code",
   "execution_count": 12,
   "metadata": {},
   "outputs": [
    {
     "name": "stdout",
     "output_type": "stream",
     "text": [
      "root\n",
      " |-- Patient Id: integer (nullable = true)\n",
      " |-- Permanent Facility Id: double (nullable = true)\n",
      " |-- Age Group: string (nullable = true)\n",
      " |-- Zip Code - 3 digits: string (nullable = true)\n",
      " |-- Gender: string (nullable = true)\n",
      " |-- Race: string (nullable = true)\n",
      " |-- Ethnicity: string (nullable = true)\n",
      " |-- Length of Stay: string (nullable = true)\n",
      " |-- Type of Admission: string (nullable = true)\n",
      " |-- Patient Disposition: string (nullable = true)\n",
      " |-- CCS Diagnosis Code: string (nullable = true)\n",
      " |-- Date: date (nullable = true)\n",
      "\n"
     ]
    }
   ],
   "source": [
    "df2.printSchema()"
   ]
  },
  {
   "cell_type": "markdown",
   "metadata": {},
   "source": [
    "### define schema"
   ]
  },
  {
   "cell_type": "code",
   "execution_count": 13,
   "metadata": {},
   "outputs": [],
   "source": [
    "a_schema = \"\"\"\n",
    "            `Patient Id` INTEGER,\n",
    "            `Permanent Facility Id` DOUBLE,\n",
    "            `Age Group` STRING,\n",
    "            `Zip Code - 3 digits` STRING,\n",
    "            `Gender` STRING,\n",
    "            `Race` STRING,\n",
    "            `Ethnicity` STRING,\n",
    "            `Length of Stay` STRING,\n",
    "            `Type of Admission` STRING,\n",
    "            `Patient Disposition` STRING,\n",
    "            `CCS Diagnosis Code` STRING,\n",
    "            `Date` DATE\n",
    "            \"\"\""
   ]
  },
  {
   "cell_type": "code",
   "execution_count": 14,
   "metadata": {},
   "outputs": [],
   "source": [
    "df3 = spark.read\\\n",
    "    .format(\"csv\")\\\n",
    "    .option(\"header\", \"true\")\\\n",
    "    .schema(a_schema)\\\n",
    "    .load(\"a.csv\")"
   ]
  },
  {
   "cell_type": "code",
   "execution_count": 15,
   "metadata": {},
   "outputs": [
    {
     "name": "stdout",
     "output_type": "stream",
     "text": [
      "root\n",
      " |-- Patient Id: integer (nullable = true)\n",
      " |-- Permanent Facility Id: double (nullable = true)\n",
      " |-- Age Group: string (nullable = true)\n",
      " |-- Zip Code - 3 digits: string (nullable = true)\n",
      " |-- Gender: string (nullable = true)\n",
      " |-- Race: string (nullable = true)\n",
      " |-- Ethnicity: string (nullable = true)\n",
      " |-- Length of Stay: string (nullable = true)\n",
      " |-- Type of Admission: string (nullable = true)\n",
      " |-- Patient Disposition: string (nullable = true)\n",
      " |-- CCS Diagnosis Code: string (nullable = true)\n",
      " |-- Date: date (nullable = true)\n",
      "\n"
     ]
    }
   ],
   "source": [
    "df.printSchema()"
   ]
  },
  {
   "cell_type": "code",
   "execution_count": 16,
   "metadata": {},
   "outputs": [],
   "source": [
    "from pyspark.sql.types import StructType, StructField, IntegerType, StringType, DateType, DoubleType"
   ]
  },
  {
   "cell_type": "code",
   "execution_count": 17,
   "metadata": {},
   "outputs": [],
   "source": [
    "a_schema_struct = StructType([\n",
    "    StructField(\"Patient Id\", IntegerType(), True),\n",
    "    StructField(\"Permanent Facility Id\", DoubleType(), True),\n",
    "    StructField(\"Age Group\", StringType(), True),\n",
    "    StructField(\"Zip Code - 3 digits\", StringType(), True),\n",
    "    StructField(\"Gender\", StringType(), True),\n",
    "    StructField(\"Race\", StringType(), True),\n",
    "    StructField(\"Ethnicity\", StringType(), True),\n",
    "    StructField(\"Length of Stay\", StringType(), True),\n",
    "    StructField(\"Type of Admission\", StringType(), True),\n",
    "    StructField(\"Patient Disposition\", StringType(), True),\n",
    "    StructField(\"CCS Diagnosis Code\", StringType(), True),\n",
    "    StructField(\"Date\", DateType(), True)\n",
    "])"
   ]
  },
  {
   "cell_type": "code",
   "execution_count": 18,
   "metadata": {},
   "outputs": [],
   "source": [
    "df3 = spark.read\\\n",
    "    .format(\"csv\")\\\n",
    "    .option(\"header\", \"true\")\\\n",
    "    .schema(a_schema_struct)\\\n",
    "    .load(\"a.csv\")"
   ]
  },
  {
   "cell_type": "code",
   "execution_count": 20,
   "metadata": {},
   "outputs": [
    {
     "name": "stdout",
     "output_type": "stream",
     "text": [
      "+----------+---------------------+-----------+-------------------+------+--------------------+-----------------+--------------+-----------------+--------------------+------------------+----------+\n",
      "|Patient Id|Permanent Facility Id|  Age Group|Zip Code - 3 digits|Gender|                Race|        Ethnicity|Length of Stay|Type of Admission| Patient Disposition|CCS Diagnosis Code|      Date|\n",
      "+----------+---------------------+-----------+-------------------+------+--------------------+-----------------+--------------+-----------------+--------------------+------------------+----------+\n",
      "|         1|               1061.0|   30 to 49|               NULL|     M|               White|Not Span/Hispanic|            21|         Elective|   Home or Self Care|               659|2017-12-20|\n",
      "|         2|               1061.0|   50 to 69|                105|     M|               White| Spanish/Hispanic|             8|        Emergency|Skilled Nursing Home|                99|2017-07-31|\n",
      "|         3|               1061.0|   30 to 49|                105|     F|               White|          Unknown|             6|        Emergency|Court/Law Enforce...|               161|2017-03-02|\n",
      "|         4|               1061.0|   50 to 69|                105|     F|               White|Not Span/Hispanic|             4|        Emergency|Skilled Nursing Home|               238|2017-03-15|\n",
      "|         5|               1061.0|   18 to 29|                105|     F|               White| Spanish/Hispanic|             4|        Emergency|Court/Law Enforce...|                 2|2017-02-11|\n",
      "|         6|               1061.0|   50 to 69|                105|     M|Black/African Ame...|Not Span/Hispanic|             3|        Emergency| Short-term Hospital|               660|2017-08-03|\n",
      "|         7|               1061.0|   30 to 49|                105|     F|Black/African Ame...|Not Span/Hispanic|             3|        Emergency|Court/Law Enforce...|               102|2017-09-15|\n",
      "|         8|               1061.0|   30 to 49|                105|     F|Black/African Ame...|          Unknown|             4|        Emergency|   Home or Self Care|                50|2017-08-18|\n",
      "|         9|               1061.0|   50 to 69|                105|     M|Black/African Ame...|Not Span/Hispanic|             4|        Emergency|   Home or Self Care|               245|2017-10-15|\n",
      "|        10|               1061.0|   50 to 69|                107|     F|Black/African Ame...|Not Span/Hispanic|             3|        Emergency|   Home or Self Care|               245|2017-04-21|\n",
      "|        11|               1061.0|   50 to 69|                104|     F|Black/African Ame...|          Unknown|             1|        Emergency|   Home or Self Care|               126|2017-09-21|\n",
      "|        12|               1072.0|   18 to 29|                108|     M|          Other Race| Spanish/Hispanic|            27|        Emergency|   Home or Self Care|               122|2017-10-13|\n",
      "|        13|               1072.0|   50 to 69|                108|     M|               White|Not Span/Hispanic|            14|        Emergency|             Expired|                83|2017-03-10|\n",
      "|        14|               1072.0|   30 to 49|                104|     F|          Other Race| Spanish/Hispanic|             4|         Elective|   Home or Self Care|               195|2017-07-17|\n",
      "|        15|               1072.0|70 or Older|                108|     M|Black/African Ame...|Not Span/Hispanic|             4|        Emergency|   Home or Self Care|               100|2017-04-20|\n",
      "|        16|               1072.0|   50 to 69|                108|     F|Black/African Ame...|          Unknown|             6|        Emergency|   Home or Self Care|                99|2017-09-10|\n",
      "|        17|               1072.0|70 or Older|                108|     M|Black/African Ame...|Not Span/Hispanic|             4|        Emergency|Skilled Nursing Home|               108|2017-11-13|\n",
      "|        18|               1072.0|   50 to 69|                104|     F|Black/African Ame...|          Unknown|             4|        Emergency|   Home or Self Care|               229|2017-03-25|\n",
      "|        19|               1072.0|70 or Older|                104|     M|          Other Race|Not Span/Hispanic|             5|        Emergency|Skilled Nursing Home|               153|2017-07-16|\n",
      "|        20|               1072.0|   30 to 49|                104|     F|               White| Spanish/Hispanic|             4|         Elective|   Home or Self Care|               183|2017-05-05|\n",
      "+----------+---------------------+-----------+-------------------+------+--------------------+-----------------+--------------+-----------------+--------------------+------------------+----------+\n",
      "only showing top 20 rows\n",
      "\n"
     ]
    }
   ],
   "source": [
    "df3.show()"
   ]
  }
 ],
 "metadata": {
  "kernelspec": {
   "display_name": "Python 3",
   "language": "python",
   "name": "python3"
  },
  "language_info": {
   "codemirror_mode": {
    "name": "ipython",
    "version": 3
   },
   "file_extension": ".py",
   "mimetype": "text/x-python",
   "name": "python",
   "nbconvert_exporter": "python",
   "pygments_lexer": "ipython3",
   "version": "3.11.0"
  }
 },
 "nbformat": 4,
 "nbformat_minor": 2
}
